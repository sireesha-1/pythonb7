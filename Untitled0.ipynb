{
  "nbformat": 4,
  "nbformat_minor": 0,
  "metadata": {
    "colab": {
      "name": "Untitled0.ipynb",
      "provenance": []
    },
    "kernelspec": {
      "name": "python3",
      "display_name": "Python 3"
    }
  },
  "cells": [
    {
      "cell_type": "code",
      "metadata": {
        "id": "4b5-d-inh8nR",
        "colab_type": "code",
        "colab": {
          "base_uri": "https://localhost:8080/",
          "height": 51
        },
        "outputId": "763f59dc-6a9a-4dcd-b676-730e57fb5916"
      },
      "source": [
        "num=int(input(\"enter the pilot landed altitude in ft------\"))\n",
        "if num==1000:\n",
        "  print(\"safe to land\")\n",
        "elif num<=5000 and num!=1000:\n",
        "     print(\"bring down to 1000\")\n",
        "else:\n",
        "  print(\"turn  around\")\n"
      ],
      "execution_count": 7,
      "outputs": [
        {
          "output_type": "stream",
          "text": [
            "enter the pilot landed altitude in ft------1000\n",
            "safe to land\n"
          ],
          "name": "stdout"
        }
      ]
    },
    {
      "cell_type": "code",
      "metadata": {
        "id": "QigTI1_4jADh",
        "colab_type": "code",
        "colab": {
          "base_uri": "https://localhost:8080/",
          "height": 51
        },
        "outputId": "5f156a83-8d50-4c5d-eb12-f9c0c0b08021"
      },
      "source": [
        "num=int(input(\"enter the pilot landed altitude in ft------\"))\n",
        "if num==1000:\n",
        "  print(\"safe to land\")\n",
        "elif num<=5000 and num!=1000:\n",
        "     print(\"bring down to 1000\")\n",
        "else:\n",
        "  print(\"turn  around\")\n"
      ],
      "execution_count": 12,
      "outputs": [
        {
          "output_type": "stream",
          "text": [
            "enter the pilot landed altitude in ft------4500\n",
            "bring down to 1000\n"
          ],
          "name": "stdout"
        }
      ]
    },
    {
      "cell_type": "code",
      "metadata": {
        "id": "ymQZqAH2jcQn",
        "colab_type": "code",
        "colab": {
          "base_uri": "https://localhost:8080/",
          "height": 51
        },
        "outputId": "d4b4bfc9-2478-43eb-d181-f88a9c3853a2"
      },
      "source": [
        "num=int(input(\"enter the pilot landed altitude in ft------\"))\n",
        "if num==1000:\n",
        "  print(\"safe to land\")\n",
        "elif num<=5000 and num!=1000:\n",
        "     print(\"bring down to 1000\")\n",
        "else:\n",
        "  print(\"turn  around\")\n"
      ],
      "execution_count": 11,
      "outputs": [
        {
          "output_type": "stream",
          "text": [
            "enter the pilot landed altitude in ft------6500\n",
            "turn  around\n"
          ],
          "name": "stdout"
        }
      ]
    }
  ]
}